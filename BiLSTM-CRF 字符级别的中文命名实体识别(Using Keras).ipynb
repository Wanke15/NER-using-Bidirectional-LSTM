{
  "cells": [
    {
      "metadata": {
        "_cell_guid": "4d5be342-abe9-4c95-98fd-c904762ecca9",
        "_uuid": "47570c242f4774c5d670093b822cf6a3f3a91ba9",
        "trusted": true
      },
      "cell_type": "code",
      "source": "# This Python 3 environment comes with many helpful analytics libraries installed\n# It is defined by the kaggle/python docker image: https://github.com/kaggle/docker-python\n# For example, here's several helpful packages to load in \n\nimport numpy as np # linear algebra\nimport pandas as pd # data processing, CSV file I/O (e.g. pd.read_csv)\n\n# Input data files are available in the \"../input/\" directory.\n# For example, running this (by clicking run or pressing Shift+Enter) will list the files in the input directory\n\nfrom subprocess import check_output\nprint(check_output([\"ls\", \"../input\"]).decode(\"utf8\"))\n\n# Any results you write to the current directory are saved as output.",
      "execution_count": 1,
      "outputs": [
        {
          "output_type": "stream",
          "text": "chinese-ner\nentity-annotated-corpus\n\n",
          "name": "stdout"
        }
      ]
    },
    {
      "metadata": {
        "_cell_guid": "46eeeccc-37ad-4d58-b0c5-71dcbb4b935b",
        "_uuid": "64d208ee42a7c5919fc1f7f0937b7b6fcb9c3ea7"
      },
      "cell_type": "markdown",
      "source": "\n**Importing the dataset for named entity recognition model**"
    },
    {
      "metadata": {
        "trusted": true,
        "_uuid": "efdc78eeb23ec755724ccbc9e1c3eb93d63f8965"
      },
      "cell_type": "code",
      "source": "with open('../input/chinese-ner/train_data.txt', 'r', encoding='utf-8') as f:\n    content = f.readlines()\n    \ncontent = [w.strip().split() for w in content]",
      "execution_count": 2,
      "outputs": []
    },
    {
      "metadata": {
        "trusted": true,
        "_uuid": "bd75342a521cf9a45bc0c84986f90af13688ce92"
      },
      "cell_type": "code",
      "source": "words = list(set([c[0] for c in content if len(c)!=0]))\nwords.append(\"ENDPAD\")\nn_words = len(words); n_words",
      "execution_count": 3,
      "outputs": [
        {
          "output_type": "execute_result",
          "execution_count": 3,
          "data": {
            "text/plain": "4768"
          },
          "metadata": {}
        }
      ]
    },
    {
      "metadata": {
        "trusted": true,
        "_uuid": "7792b654f36da65c90178ac642be3e4da111e9a3"
      },
      "cell_type": "code",
      "source": "tags = list(set([c[1] for c in content if len(c)!=0]))\nn_tags = len(tags); n_tags",
      "execution_count": 4,
      "outputs": [
        {
          "output_type": "execute_result",
          "execution_count": 4,
          "data": {
            "text/plain": "7"
          },
          "metadata": {}
        }
      ]
    },
    {
      "metadata": {
        "trusted": true,
        "_uuid": "5866991fb1ccc42fc35b97140e2e053e960cb7c9"
      },
      "cell_type": "code",
      "source": "word2idx = {w: i for i, w in enumerate(words)}\ntag2idx = {t: i for i, t in enumerate(tags)}",
      "execution_count": 5,
      "outputs": []
    },
    {
      "metadata": {
        "trusted": true,
        "_uuid": "26eb0843a834f62a4d3fe77cdfeb532c7d8ebbb6"
      },
      "cell_type": "code",
      "source": "sentences = []\ntemp = []\nfor item in content:\n    if len(item) != 0:\n        temp.append((item[0], item[1]))\n    else:\n        sentences.append(temp)\n        temp = []",
      "execution_count": 6,
      "outputs": []
    },
    {
      "metadata": {
        "trusted": true,
        "_uuid": "6fef79bb9a4ff57f86575fb0d9004f442edcffed"
      },
      "cell_type": "code",
      "source": "maxlen = max([len(s) for s in sentences])\nprint ('Maximum sequence length:', maxlen)",
      "execution_count": 7,
      "outputs": [
        {
          "output_type": "stream",
          "text": "Maximum sequence length: 100\n",
          "name": "stdout"
        }
      ]
    },
    {
      "metadata": {
        "trusted": true,
        "_uuid": "517af27cb26c2261891f1928c9883cfc01c0f793"
      },
      "cell_type": "code",
      "source": "# Check how long sentences are so that we can pad them\nimport matplotlib.pyplot as plt\n%matplotlib inline\nplt.style.use(\"ggplot\")",
      "execution_count": 8,
      "outputs": []
    },
    {
      "metadata": {
        "trusted": true,
        "_uuid": "da7ad127d7a445f03e0ba3155ac1bad20eb7d1ed"
      },
      "cell_type": "code",
      "source": "plt.hist([len(s) for s in sentences], bins=50)\nplt.show()",
      "execution_count": 9,
      "outputs": [
        {
          "output_type": "display_data",
          "data": {
            "text/plain": "<Figure size 432x288 with 1 Axes>",
            "image/png": "[encoded data removed]"
          },
          "metadata": {}
        }
      ]
    },
    {
      "metadata": {
        "trusted": true,
        "_uuid": "dada8dc585ec5c00556864264d1a720d5adc3ce0"
      },
      "cell_type": "code",
      "source": "from keras.preprocessing.sequence import pad_sequences\nX = [[word2idx[w[0]] for w in s] for s in sentences]\nX = np.array(pad_sequences(sequences=X, maxlen=maxlen, padding='post', value=n_words-1))",
      "execution_count": 10,
      "outputs": [
        {
          "output_type": "stream",
          "text": "Using TensorFlow backend.\n",
          "name": "stderr"
        }
      ]
    },
    {
      "metadata": {
        "trusted": true,
        "_uuid": "7bf8933351ae531dd8afc97037e8c53052fabe4e"
      },
      "cell_type": "code",
      "source": "y = [[tag2idx[w[1]] for w in s] for s in sentences]\ny = np.array(pad_sequences(maxlen=maxlen, sequences=y, padding=\"post\", value=tag2idx[\"O\"]))",
      "execution_count": 11,
      "outputs": []
    },
    {
      "metadata": {
        "trusted": true,
        "_uuid": "ed0bec01d5f74324d79d75e1890fa4819f1acc98"
      },
      "cell_type": "code",
      "source": "from sklearn.model_selection import train_test_split\nX_train, X_test, y_train, y_test = train_test_split(X, y, test_size=0.2)",
      "execution_count": 12,
      "outputs": []
    },
    {
      "metadata": {
        "trusted": true,
        "_uuid": "493d1a9415227ea42325bdca71e70dce6c1b569b"
      },
      "cell_type": "code",
      "source": "!pip install git+https://www.github.com/keras-team/keras-contrib.git",
      "execution_count": 13,
      "outputs": [
        {
          "output_type": "stream",
          "text": "Collecting git+https://www.github.com/keras-team/keras-contrib.git\n  Cloning https://www.github.com/keras-team/keras-contrib.git to /tmp/pip-req-build-p39kysrh\nRequirement already satisfied: keras in /opt/conda/lib/python3.6/site-packages/Keras-2.2.4-py3.6.egg (from keras-contrib==2.0.8) (2.2.4)\nRequirement already satisfied: numpy>=1.9.1 in /opt/conda/lib/python3.6/site-packages (from keras->keras-contrib==2.0.8) (1.15.2)\nRequirement already satisfied: scipy>=0.14 in /opt/conda/lib/python3.6/site-packages (from keras->keras-contrib==2.0.8) (1.1.0)\nRequirement already satisfied: six>=1.9.0 in /opt/conda/lib/python3.6/site-packages (from keras->keras-contrib==2.0.8) (1.11.0)\nRequirement already satisfied: pyyaml in /opt/conda/lib/python3.6/site-packages (from keras->keras-contrib==2.0.8) (3.13)\nRequirement already satisfied: h5py in /opt/conda/lib/python3.6/site-packages (from keras->keras-contrib==2.0.8) (2.8.0)\nRequirement already satisfied: keras_applications>=1.0.6 in /opt/conda/lib/python3.6/site-packages (from keras->keras-contrib==2.0.8) (1.0.6)\nRequirement already satisfied: keras_preprocessing>=1.0.5 in /opt/conda/lib/python3.6/site-packages (from keras->keras-contrib==2.0.8) (1.0.5)\nBuilding wheels for collected packages: keras-contrib\n  Running setup.py bdist_wheel for keras-contrib ... \u001b[?25ldone\n\u001b[?25h  Stored in directory: /tmp/pip-ephem-wheel-cache-ftla9x6l/wheels/11/27/c8/4ed56de7b55f4f61244e2dc6ef3cdbaff2692527a2ce6502ba\nSuccessfully built keras-contrib\n\u001b[31mmxnet 1.3.0.post0 has requirement numpy<1.15.0,>=1.8.2, but you'll have numpy 1.15.2 which is incompatible.\u001b[0m\n\u001b[31mkmeans-smote 0.1.0 has requirement imbalanced-learn<0.4,>=0.3.1, but you'll have imbalanced-learn 0.5.0.dev0 which is incompatible.\u001b[0m\n\u001b[31mkmeans-smote 0.1.0 has requirement numpy<1.15,>=1.13, but you'll have numpy 1.15.2 which is incompatible.\u001b[0m\n\u001b[31mfastai 0.7.0 has requirement torch<0.4, but you'll have torch 0.4.1.post2 which is incompatible.\u001b[0m\n\u001b[31manaconda-client 1.7.2 has requirement python-dateutil>=2.6.1, but you'll have python-dateutil 2.6.0 which is incompatible.\u001b[0m\n\u001b[31mimbalanced-learn 0.5.0.dev0 has requirement scikit-learn>=0.20, but you'll have scikit-learn 0.19.1 which is incompatible.\u001b[0m\nInstalling collected packages: keras-contrib\nSuccessfully installed keras-contrib-2.0.8\n\u001b[33mYou are using pip version 10.0.1, however version 18.1 is available.\nYou should consider upgrading via the 'pip install --upgrade pip' command.\u001b[0m\n",
          "name": "stdout"
        }
      ]
    },
    {
      "metadata": {
        "trusted": true,
        "_uuid": "1109b98c67fb151742027c3ebc2c34758431be69"
      },
      "cell_type": "code",
      "source": "from keras.models import Model, Input, Sequential\nfrom keras.layers import LSTM, Embedding, Dense, TimeDistributed, Dropout, Bidirectional\nfrom keras_contrib.layers.crf import CRF\nfrom keras.optimizers import Adam",
      "execution_count": 14,
      "outputs": []
    },
    {
      "metadata": {
        "trusted": true,
        "_uuid": "2fa113078dde42fb187ec5f7216e6a2f8717c622"
      },
      "cell_type": "code",
      "source": "EMBEDDING_OUT_DIM = 200\nmodel = Sequential()\nmodel.add(Embedding(input_dim=n_words, output_dim=EMBEDDING_OUT_DIM, input_length=maxlen))\nmodel.add(Dropout(0.5))\nmodel.add(Bidirectional(LSTM(units=128, return_sequences=True, recurrent_dropout=0.5)))\nmodel.add(TimeDistributed(Dense(n_tags)))\ncrf_layer = CRF(n_tags, sparse_target=True)\nmodel.add(crf_layer)",
      "execution_count": 15,
      "outputs": []
    },
    {
      "metadata": {
        "trusted": true,
        "_uuid": "48a977c3d46ef8112a0c84476fde8a2aee252415"
      },
      "cell_type": "code",
      "source": "model.summary()",
      "execution_count": 16,
      "outputs": [
        {
          "output_type": "stream",
          "text": "_________________________________________________________________\nLayer (type)                 Output Shape              Param #   \n=================================================================\nembedding_1 (Embedding)      (None, 100, 200)          953600    \n_________________________________________________________________\ndropout_1 (Dropout)          (None, 100, 200)          0         \n_________________________________________________________________\nbidirectional_1 (Bidirection (None, 100, 256)          336896    \n_________________________________________________________________\ntime_distributed_1 (TimeDist (None, 100, 7)            1799      \n_________________________________________________________________\ncrf_1 (CRF)                  (None, 100, 7)            119       \n=================================================================\nTotal params: 1,292,414\nTrainable params: 1,292,414\nNon-trainable params: 0\n_________________________________________________________________\n",
          "name": "stdout"
        }
      ]
    },
    {
      "metadata": {
        "trusted": true,
        "_uuid": "4196832eb7014e4ac76bf7d5f660f7dd99a17e90"
      },
      "cell_type": "code",
      "source": "model.compile(optimizer='adam', loss=crf_layer.loss_function, metrics=[crf_layer.accuracy])",
      "execution_count": 17,
      "outputs": []
    },
    {
      "metadata": {
        "trusted": true,
        "_uuid": "862b257995a9e90b8815a9a5aedaa6ac315bcf17"
      },
      "cell_type": "code",
      "source": "history = model.fit(X_train, y_train.reshape(y_train.shape[0], y_train.shape[1], 1), batch_size=32, epochs=5, validation_split=0.2, verbose=1)",
      "execution_count": 18,
      "outputs": [
        {
          "output_type": "stream",
          "text": "Train on 32420 samples, validate on 8106 samples\nEpoch 1/5\n32420/32420 [==============================] - 725s 22ms/step - loss: 0.0963 - acc: 0.9629 - val_loss: 0.0316 - val_acc: 0.9806\nEpoch 2/5\n32420/32420 [==============================] - 715s 22ms/step - loss: 0.0202 - acc: 0.9819 - val_loss: 0.0054 - val_acc: 0.9859\nEpoch 3/5\n32420/32420 [==============================] - 715s 22ms/step - loss: -0.0018 - acc: 0.9860 - val_loss: -0.0117 - val_acc: 0.9885\nEpoch 4/5\n32420/32420 [==============================] - 717s 22ms/step - loss: -0.0178 - acc: 0.9885 - val_loss: -0.0251 - val_acc: 0.9894\nEpoch 5/5\n32420/32420 [==============================] - 716s 22ms/step - loss: -0.0315 - acc: 0.9899 - val_loss: -0.0378 - val_acc: 0.9907\n",
          "name": "stdout"
        }
      ]
    },
    {
      "metadata": {
        "trusted": true,
        "_uuid": "4e7a915456cef1ff082e98193ccfccc9d847cfd3"
      },
      "cell_type": "code",
      "source": "model.evaluate(X_test, y_test.reshape(y_test.shape[0], y_test.shape[1], 1))",
      "execution_count": 19,
      "outputs": [
        {
          "output_type": "stream",
          "text": "10132/10132 [==============================] - 96s 9ms/step\n",
          "name": "stdout"
        },
        {
          "output_type": "execute_result",
          "execution_count": 19,
          "data": {
            "text/plain": "[-0.037353831020165845, 0.9902299649386928]"
          },
          "metadata": {}
        }
      ]
    },
    {
      "metadata": {
        "trusted": true,
        "_uuid": "7033bf740f5efeecf83e7ac42e4868b0f818cc3a"
      },
      "cell_type": "code",
      "source": "import re\nclass NERInference:\n    def __init__(self, model, words, word2idx, tags, n_words, maxlen, split_pattern=\"(,|!|\\.| +)\"):\n        self.model = model\n        self.words = words\n        self.word2idx = word2idx\n        self.tags = tags\n        self.n_words = n_words\n        self.pattern = split_pattern\n        self.maxlen = maxlen\n        \n    def predict(self, string):\n        tokens = [[self.word2idx[word] for word in string if word in self.words]]\n        padded = pad_sequences(tokens, maxlen=self.maxlen, padding='post', value=self.n_words-1)\n        pred_ner = np.argmax(self.model.predict(padded), axis=-1)\n        for w,pred in zip(padded[0], pred_ner[0]):\n            if w == self.n_words - 1:\n                break\n            print(\"{:15}: {}\".format(self.words[w], self.tags[pred]))",
      "execution_count": 20,
      "outputs": []
    },
    {
      "metadata": {
        "trusted": true,
        "_uuid": "68af091b3650cb5c334175adf6b9668978083cdd"
      },
      "cell_type": "code",
      "source": "new_string4 = '在周恩来总理的领导下，由当时中共中央主管科学工作的陈毅、国务院副总理兼国家计委主任李富春具体领导'\nmyNerInfer = NERInference(model, word2idx=word2idx, words=words, tags=tags, n_words=n_words, maxlen=maxlen)\nmyNerInfer.predict(string=new_string4)",
      "execution_count": 22,
      "outputs": [
        {
          "output_type": "stream",
          "text": "在              : O\n周              : B-PER\n恩              : I-PER\n来              : I-PER\n总              : O\n理              : O\n的              : O\n领              : O\n导              : O\n下              : O\n，              : O\n由              : O\n当              : O\n时              : O\n中              : B-ORG\n共              : I-ORG\n中              : I-ORG\n央              : I-ORG\n主              : I-ORG\n管              : I-ORG\n科              : I-ORG\n学              : I-ORG\n工              : O\n作              : O\n的              : O\n陈              : B-PER\n毅              : I-PER\n、              : O\n国              : B-ORG\n务              : I-ORG\n院              : I-ORG\n副              : O\n总              : O\n理              : O\n兼              : O\n国              : B-ORG\n家              : I-ORG\n计              : I-ORG\n委              : I-ORG\n主              : O\n任              : O\n李              : B-PER\n富              : I-PER\n春              : I-PER\n具              : O\n体              : O\n领              : O\n导              : O\n",
          "name": "stdout"
        }
      ]
    },
    {
      "metadata": {
        "trusted": true,
        "_uuid": "cff4455e83d7002e0bdc8002cfe4a7cc73a0a91d"
      },
      "cell_type": "code",
      "source": "",
      "execution_count": null,
      "outputs": []
    }
  ],
  "metadata": {
    "kernelspec": {
      "display_name": "Python 3",
      "language": "python",
      "name": "python3"
    },
    "language_info": {
      "name": "python",
      "version": "3.6.6",
      "mimetype": "text/x-python",
      "codemirror_mode": {
        "name": "ipython",
        "version": 3
      },
      "pygments_lexer": "ipython3",
      "nbconvert_exporter": "python",
      "file_extension": ".py"
    }
  },
  "nbformat": 4,
  "nbformat_minor": 1
}