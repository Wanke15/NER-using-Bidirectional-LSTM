{
  "cells": [
    {
      "metadata": {
        "_cell_guid": "4d5be342-abe9-4c95-98fd-c904762ecca9",
        "_uuid": "47570c242f4774c5d670093b822cf6a3f3a91ba9",
        "trusted": true
      },
      "cell_type": "code",
      "source": "# This Python 3 environment comes with many helpful analytics libraries installed\n# It is defined by the kaggle/python docker image: https://github.com/kaggle/docker-python\n# For example, here's several helpful packages to load in \n\nimport numpy as np # linear algebra\nimport pandas as pd # data processing, CSV file I/O (e.g. pd.read_csv)\n\n# Input data files are available in the \"../input/\" directory.\n# For example, running this (by clicking run or pressing Shift+Enter) will list the files in the input directory\n\nfrom subprocess import check_output\nprint(check_output([\"ls\", \"../input\"]).decode(\"utf8\"))\n\n# Any results you write to the current directory are saved as output.",
      "execution_count": 1,
      "outputs": [
        {
          "output_type": "stream",
          "text": "ner.csv\nner_dataset.csv\n\n",
          "name": "stdout"
        }
      ]
    },
    {
      "metadata": {
        "_cell_guid": "46eeeccc-37ad-4d58-b0c5-71dcbb4b935b",
        "_uuid": "64d208ee42a7c5919fc1f7f0937b7b6fcb9c3ea7"
      },
      "cell_type": "markdown",
      "source": "\n**Importing the dataset for named entity recognition model**"
    },
    {
      "metadata": {
        "_cell_guid": "fab9a876-dd53-4636-a48e-3a87a5ba9370",
        "_uuid": "39f851aae0e531c23978926c6ad9bc3d2c739705",
        "trusted": true
      },
      "cell_type": "code",
      "source": "dframe = pd.read_csv(\"../input/ner.csv\", encoding = \"ISO-8859-1\", error_bad_lines=False)",
      "execution_count": 2,
      "outputs": [
        {
          "output_type": "stream",
          "text": "b'Skipping line 281837: expected 25 fields, saw 34\\n'\n",
          "name": "stderr"
        }
      ]
    },
    {
      "metadata": {
        "_cell_guid": "0049ec5e-3b99-4059-a09c-7395f1fa3ab7",
        "_uuid": "ce5d3d143151edbe4885ea10ca1994fb2687038a",
        "trusted": true
      },
      "cell_type": "code",
      "source": "dframe.head()",
      "execution_count": 3,
      "outputs": [
        {
          "output_type": "execute_result",
          "execution_count": 3,
          "data": {
            "text/plain": "   Unnamed: 0     lemma next-lemma ...        shape           word tag\n0           0  thousand         of ...  capitalized      Thousands   O\n1           1        of   demonstr ...    lowercase             of   O\n2           2  demonstr       have ...    lowercase  demonstrators   O\n3           3      have      march ...    lowercase           have   O\n4           4     march    through ...    lowercase        marched   O\n\n[5 rows x 25 columns]",
            "text/html": "<div>\n<style scoped>\n    .dataframe tbody tr th:only-of-type {\n        vertical-align: middle;\n    }\n\n    .dataframe tbody tr th {\n        vertical-align: top;\n    }\n\n    .dataframe thead th {\n        text-align: right;\n    }\n</style>\n<table border=\"1\" class=\"dataframe\">\n  <thead>\n    <tr style=\"text-align: right;\">\n      <th></th>\n      <th>Unnamed: 0</th>\n      <th>lemma</th>\n      <th>next-lemma</th>\n      <th>next-next-lemma</th>\n      <th>next-next-pos</th>\n      <th>next-next-shape</th>\n      <th>next-next-word</th>\n      <th>next-pos</th>\n      <th>next-shape</th>\n      <th>next-word</th>\n      <th>pos</th>\n      <th>prev-iob</th>\n      <th>prev-lemma</th>\n      <th>prev-pos</th>\n      <th>prev-prev-iob</th>\n      <th>prev-prev-lemma</th>\n      <th>prev-prev-pos</th>\n      <th>prev-prev-shape</th>\n      <th>prev-prev-word</th>\n      <th>prev-shape</th>\n      <th>prev-word</th>\n      <th>sentence_idx</th>\n      <th>shape</th>\n      <th>word</th>\n      <th>tag</th>\n    </tr>\n  </thead>\n  <tbody>\n    <tr>\n      <th>0</th>\n      <td>0</td>\n      <td>thousand</td>\n      <td>of</td>\n      <td>demonstr</td>\n      <td>NNS</td>\n      <td>lowercase</td>\n      <td>demonstrators</td>\n      <td>IN</td>\n      <td>lowercase</td>\n      <td>of</td>\n      <td>NNS</td>\n      <td>__START1__</td>\n      <td>__start1__</td>\n      <td>__START1__</td>\n      <td>__START2__</td>\n      <td>__start2__</td>\n      <td>__START2__</td>\n      <td>wildcard</td>\n      <td>__START2__</td>\n      <td>wildcard</td>\n      <td>__START1__</td>\n      <td>1.0</td>\n      <td>capitalized</td>\n      <td>Thousands</td>\n      <td>O</td>\n    </tr>\n    <tr>\n      <th>1</th>\n      <td>1</td>\n      <td>of</td>\n      <td>demonstr</td>\n      <td>have</td>\n      <td>VBP</td>\n      <td>lowercase</td>\n      <td>have</td>\n      <td>NNS</td>\n      <td>lowercase</td>\n      <td>demonstrators</td>\n      <td>IN</td>\n      <td>O</td>\n      <td>thousand</td>\n      <td>NNS</td>\n      <td>__START1__</td>\n      <td>__start1__</td>\n      <td>__START1__</td>\n      <td>wildcard</td>\n      <td>__START1__</td>\n      <td>capitalized</td>\n      <td>Thousands</td>\n      <td>1.0</td>\n      <td>lowercase</td>\n      <td>of</td>\n      <td>O</td>\n    </tr>\n    <tr>\n      <th>2</th>\n      <td>2</td>\n      <td>demonstr</td>\n      <td>have</td>\n      <td>march</td>\n      <td>VBN</td>\n      <td>lowercase</td>\n      <td>marched</td>\n      <td>VBP</td>\n      <td>lowercase</td>\n      <td>have</td>\n      <td>NNS</td>\n      <td>O</td>\n      <td>of</td>\n      <td>IN</td>\n      <td>O</td>\n      <td>thousand</td>\n      <td>NNS</td>\n      <td>capitalized</td>\n      <td>Thousands</td>\n      <td>lowercase</td>\n      <td>of</td>\n      <td>1.0</td>\n      <td>lowercase</td>\n      <td>demonstrators</td>\n      <td>O</td>\n    </tr>\n    <tr>\n      <th>3</th>\n      <td>3</td>\n      <td>have</td>\n      <td>march</td>\n      <td>through</td>\n      <td>IN</td>\n      <td>lowercase</td>\n      <td>through</td>\n      <td>VBN</td>\n      <td>lowercase</td>\n      <td>marched</td>\n      <td>VBP</td>\n      <td>O</td>\n      <td>demonstr</td>\n      <td>NNS</td>\n      <td>O</td>\n      <td>of</td>\n      <td>IN</td>\n      <td>lowercase</td>\n      <td>of</td>\n      <td>lowercase</td>\n      <td>demonstrators</td>\n      <td>1.0</td>\n      <td>lowercase</td>\n      <td>have</td>\n      <td>O</td>\n    </tr>\n    <tr>\n      <th>4</th>\n      <td>4</td>\n      <td>march</td>\n      <td>through</td>\n      <td>london</td>\n      <td>NNP</td>\n      <td>capitalized</td>\n      <td>London</td>\n      <td>IN</td>\n      <td>lowercase</td>\n      <td>through</td>\n      <td>VBN</td>\n      <td>O</td>\n      <td>have</td>\n      <td>VBP</td>\n      <td>O</td>\n      <td>demonstr</td>\n      <td>NNS</td>\n      <td>lowercase</td>\n      <td>demonstrators</td>\n      <td>lowercase</td>\n      <td>have</td>\n      <td>1.0</td>\n      <td>lowercase</td>\n      <td>marched</td>\n      <td>O</td>\n    </tr>\n  </tbody>\n</table>\n</div>"
          },
          "metadata": {}
        }
      ]
    },
    {
      "metadata": {
        "_cell_guid": "06f00bc1-4964-46e9-a1ff-aa04d2605cef",
        "_uuid": "d64e89af977c30f36cb50f590645ead8576d17ab"
      },
      "cell_type": "markdown",
      "source": "**Data preprocessing**"
    },
    {
      "metadata": {
        "_cell_guid": "85bfa964-b5c4-44d9-9cdc-9eb15259d7c9",
        "_uuid": "028f9857d08bd173ac2a4b587ebd6975aa3c3e80",
        "trusted": true
      },
      "cell_type": "code",
      "source": "dframe.columns",
      "execution_count": 4,
      "outputs": [
        {
          "output_type": "execute_result",
          "execution_count": 4,
          "data": {
            "text/plain": "Index(['Unnamed: 0', 'lemma', 'next-lemma', 'next-next-lemma', 'next-next-pos',\n       'next-next-shape', 'next-next-word', 'next-pos', 'next-shape',\n       'next-word', 'pos', 'prev-iob', 'prev-lemma', 'prev-pos',\n       'prev-prev-iob', 'prev-prev-lemma', 'prev-prev-pos', 'prev-prev-shape',\n       'prev-prev-word', 'prev-shape', 'prev-word', 'sentence_idx', 'shape',\n       'word', 'tag'],\n      dtype='object')"
          },
          "metadata": {}
        }
      ]
    },
    {
      "metadata": {
        "_cell_guid": "e3448ee3-bed0-4029-88a1-3a79abfd23d5",
        "_uuid": "2d4d560f8101eb4da1a90c05cfa30b32b134be10"
      },
      "cell_type": "markdown",
      "source": "* We want word, pos, sentence_idx and tag as an input "
    },
    {
      "metadata": {
        "_cell_guid": "9f70ec09-0452-495d-aa80-a6358c2d30af",
        "_uuid": "45e7b565a3eacf62a3104969026eed96c7440b34",
        "trusted": true
      },
      "cell_type": "code",
      "source": "dataset=dframe.drop(['Unnamed: 0', 'lemma', 'next-lemma', 'next-next-lemma', 'next-next-pos',\n       'next-next-shape', 'next-next-word', 'next-pos', 'next-shape',\n       'next-word', 'prev-iob', 'prev-lemma', 'prev-pos',\n       'prev-prev-iob', 'prev-prev-lemma', 'prev-prev-pos', 'prev-prev-shape',\n       'prev-prev-word', 'prev-shape', 'prev-word'],axis=1)",
      "execution_count": 5,
      "outputs": []
    },
    {
      "metadata": {
        "_cell_guid": "fbf18f0c-635d-495a-81a2-46cffd0a1141",
        "_uuid": "fc7378e8db3c58bb9f953abf4991b0166a582373",
        "trusted": true
      },
      "cell_type": "code",
      "source": "dataset.info()",
      "execution_count": 6,
      "outputs": [
        {
          "output_type": "stream",
          "text": "<class 'pandas.core.frame.DataFrame'>\nRangeIndex: 1050795 entries, 0 to 1050794\nData columns (total 5 columns):\npos             1050794 non-null object\nsentence_idx    1050794 non-null float64\nshape           1050794 non-null object\nword            1050794 non-null object\ntag             1050794 non-null object\ndtypes: float64(1), object(4)\nmemory usage: 40.1+ MB\n",
          "name": "stdout"
        }
      ]
    },
    {
      "metadata": {
        "_cell_guid": "8d992370-b7b0-46d1-939c-74c567c23162",
        "_uuid": "ab6642a1268a00928aa8651037ed84db5414b5f0",
        "trusted": true
      },
      "cell_type": "code",
      "source": "dataset.head()",
      "execution_count": 7,
      "outputs": [
        {
          "output_type": "execute_result",
          "execution_count": 7,
          "data": {
            "text/plain": "   pos  sentence_idx        shape           word tag\n0  NNS           1.0  capitalized      Thousands   O\n1   IN           1.0    lowercase             of   O\n2  NNS           1.0    lowercase  demonstrators   O\n3  VBP           1.0    lowercase           have   O\n4  VBN           1.0    lowercase        marched   O",
            "text/html": "<div>\n<style scoped>\n    .dataframe tbody tr th:only-of-type {\n        vertical-align: middle;\n    }\n\n    .dataframe tbody tr th {\n        vertical-align: top;\n    }\n\n    .dataframe thead th {\n        text-align: right;\n    }\n</style>\n<table border=\"1\" class=\"dataframe\">\n  <thead>\n    <tr style=\"text-align: right;\">\n      <th></th>\n      <th>pos</th>\n      <th>sentence_idx</th>\n      <th>shape</th>\n      <th>word</th>\n      <th>tag</th>\n    </tr>\n  </thead>\n  <tbody>\n    <tr>\n      <th>0</th>\n      <td>NNS</td>\n      <td>1.0</td>\n      <td>capitalized</td>\n      <td>Thousands</td>\n      <td>O</td>\n    </tr>\n    <tr>\n      <th>1</th>\n      <td>IN</td>\n      <td>1.0</td>\n      <td>lowercase</td>\n      <td>of</td>\n      <td>O</td>\n    </tr>\n    <tr>\n      <th>2</th>\n      <td>NNS</td>\n      <td>1.0</td>\n      <td>lowercase</td>\n      <td>demonstrators</td>\n      <td>O</td>\n    </tr>\n    <tr>\n      <th>3</th>\n      <td>VBP</td>\n      <td>1.0</td>\n      <td>lowercase</td>\n      <td>have</td>\n      <td>O</td>\n    </tr>\n    <tr>\n      <th>4</th>\n      <td>VBN</td>\n      <td>1.0</td>\n      <td>lowercase</td>\n      <td>marched</td>\n      <td>O</td>\n    </tr>\n  </tbody>\n</table>\n</div>"
          },
          "metadata": {}
        }
      ]
    },
    {
      "metadata": {
        "_cell_guid": "4d20e995-322b-4928-85e1-38385b8e8753",
        "_uuid": "8d47f338cf116e591449949652de2f09a1d402c3",
        "trusted": true
      },
      "cell_type": "code",
      "source": "dataset=dataset.drop(['shape'],axis=1)",
      "execution_count": 8,
      "outputs": []
    },
    {
      "metadata": {
        "_cell_guid": "768177ab-ed36-46d2-ba06-49b708dbe185",
        "_uuid": "744cc63a695f486351f214f272307656c77db95d",
        "trusted": true
      },
      "cell_type": "code",
      "source": "dataset.head()",
      "execution_count": 9,
      "outputs": [
        {
          "output_type": "execute_result",
          "execution_count": 9,
          "data": {
            "text/plain": "   pos  sentence_idx           word tag\n0  NNS           1.0      Thousands   O\n1   IN           1.0             of   O\n2  NNS           1.0  demonstrators   O\n3  VBP           1.0           have   O\n4  VBN           1.0        marched   O",
            "text/html": "<div>\n<style scoped>\n    .dataframe tbody tr th:only-of-type {\n        vertical-align: middle;\n    }\n\n    .dataframe tbody tr th {\n        vertical-align: top;\n    }\n\n    .dataframe thead th {\n        text-align: right;\n    }\n</style>\n<table border=\"1\" class=\"dataframe\">\n  <thead>\n    <tr style=\"text-align: right;\">\n      <th></th>\n      <th>pos</th>\n      <th>sentence_idx</th>\n      <th>word</th>\n      <th>tag</th>\n    </tr>\n  </thead>\n  <tbody>\n    <tr>\n      <th>0</th>\n      <td>NNS</td>\n      <td>1.0</td>\n      <td>Thousands</td>\n      <td>O</td>\n    </tr>\n    <tr>\n      <th>1</th>\n      <td>IN</td>\n      <td>1.0</td>\n      <td>of</td>\n      <td>O</td>\n    </tr>\n    <tr>\n      <th>2</th>\n      <td>NNS</td>\n      <td>1.0</td>\n      <td>demonstrators</td>\n      <td>O</td>\n    </tr>\n    <tr>\n      <th>3</th>\n      <td>VBP</td>\n      <td>1.0</td>\n      <td>have</td>\n      <td>O</td>\n    </tr>\n    <tr>\n      <th>4</th>\n      <td>VBN</td>\n      <td>1.0</td>\n      <td>marched</td>\n      <td>O</td>\n    </tr>\n  </tbody>\n</table>\n</div>"
          },
          "metadata": {}
        }
      ]
    },
    {
      "metadata": {
        "_cell_guid": "ba6f0e4d-4b1e-40fa-a72a-df2502841ae4",
        "_uuid": "e5c4b55af4bce4308671e8a611c65bf64d0f0678"
      },
      "cell_type": "markdown",
      "source": "> **Create list of list of tuples to differentiate each sentence from each other**"
    },
    {
      "metadata": {
        "_cell_guid": "6cab4e05-47c2-4c5b-bcbb-f899f0639691",
        "_uuid": "198ccf9cc26eca32fd8e17b7f3e41bf0af3612b1",
        "trusted": true
      },
      "cell_type": "code",
      "source": "class SentenceGetter(object):\n    \n    def __init__(self, dataset):\n        self.n_sent = 1\n        self.dataset = dataset\n        self.empty = False\n        agg_func = lambda s: [(w,p, t) for w,p, t in zip(s[\"word\"].values.tolist(),\n                                                       s['pos'].values.tolist(),\n                                                        s[\"tag\"].values.tolist())]\n        self.grouped = self.dataset.groupby(\"sentence_idx\").apply(agg_func)\n        self.sentences = [s for s in self.grouped]\n    \n    def get_next(self):\n        try:\n            s = self.grouped[\"Sentence: {}\".format(self.n_sent)]\n            self.n_sent += 1\n            return s\n        except:\n            return None",
      "execution_count": 10,
      "outputs": []
    },
    {
      "metadata": {
        "_cell_guid": "16006628-505a-4d37-a5f6-db6a428517b4",
        "_uuid": "fb62acd5794185e2d7714e76712af2ed2ccc6c1d",
        "trusted": true
      },
      "cell_type": "code",
      "source": "getter = SentenceGetter(dataset)",
      "execution_count": 11,
      "outputs": []
    },
    {
      "metadata": {
        "_cell_guid": "5d0f958e-ac9c-41cb-a4bc-0256525d4f21",
        "_uuid": "88c8e7bc1b13eac9cffc3a8c4e17b27f116e5776",
        "trusted": true
      },
      "cell_type": "code",
      "source": "sentences = getter.sentences",
      "execution_count": 12,
      "outputs": []
    },
    {
      "metadata": {
        "_cell_guid": "e33a8086-5906-45b4-8091-2ff97a48d180",
        "_uuid": "d8ef748ceed29d08cab896e10e173ffa750d402c",
        "trusted": true
      },
      "cell_type": "code",
      "source": "print(sentences[0:1])",
      "execution_count": 13,
      "outputs": [
        {
          "output_type": "stream",
          "text": "[[('Thousands', 'NNS', 'O'), ('of', 'IN', 'O'), ('demonstrators', 'NNS', 'O'), ('have', 'VBP', 'O'), ('marched', 'VBN', 'O'), ('through', 'IN', 'O'), ('London', 'NNP', 'B-geo'), ('to', 'TO', 'O'), ('protest', 'VB', 'O'), ('the', 'DT', 'O'), ('war', 'NN', 'O'), ('in', 'IN', 'O'), ('Iraq', 'NNP', 'B-geo'), ('and', 'CC', 'O'), ('demand', 'VB', 'O'), ('the', 'DT', 'O'), ('withdrawal', 'NN', 'O'), ('of', 'IN', 'O'), ('British', 'JJ', 'B-gpe'), ('troops', 'NNS', 'O'), ('from', 'IN', 'O'), ('that', 'DT', 'O'), ('country', 'NN', 'O'), ('.', '.', 'O'), ('Thousands', 'NNS', 'O'), ('of', 'IN', 'O'), ('demonstrators', 'NNS', 'O'), ('have', 'VBP', 'O'), ('marched', 'VBN', 'O'), ('through', 'IN', 'O'), ('London', 'NNP', 'B-geo'), ('to', 'TO', 'O'), ('protest', 'VB', 'O'), ('the', 'DT', 'O'), ('war', 'NN', 'O'), ('in', 'IN', 'O'), ('Iraq', 'NNP', 'B-geo'), ('and', 'CC', 'O'), ('demand', 'VB', 'O'), ('the', 'DT', 'O'), ('withdrawal', 'NN', 'O'), ('of', 'IN', 'O'), ('British', 'JJ', 'B-gpe'), ('troops', 'NNS', 'O'), ('from', 'IN', 'O'), ('that', 'DT', 'O'), ('country', 'NN', 'O'), ('.', '.', 'O')]]\n",
          "name": "stdout"
        }
      ]
    },
    {
      "metadata": {
        "_cell_guid": "88cb5e40-fe8a-47a9-9be2-a23340c28a5c",
        "_uuid": "2f4479487f075f8c196a7af9ffaf5dd943a1326d",
        "trusted": true
      },
      "cell_type": "code",
      "source": "maxlen = max([len(s) for s in sentences])\nprint ('Maximum sequence length:', maxlen)",
      "execution_count": 14,
      "outputs": [
        {
          "output_type": "stream",
          "text": "Maximum sequence length: 140\n",
          "name": "stdout"
        }
      ]
    },
    {
      "metadata": {
        "_cell_guid": "263e86f4-2605-4b1f-b3df-e3c42f1c9ec4",
        "_uuid": "ef272f6ecc6b8637ebe644b1982f17c41f190039",
        "trusted": true
      },
      "cell_type": "code",
      "source": "# Check how long sentences are so that we can pad them\nimport matplotlib.pyplot as plt\n%matplotlib inline\nplt.style.use(\"ggplot\")",
      "execution_count": 15,
      "outputs": []
    },
    {
      "metadata": {
        "_cell_guid": "61e67c66-cd9f-481f-a1ea-a78815dfed47",
        "_uuid": "f25daa9b0767a04690f14ba99ed5730c71cb2100",
        "trusted": true
      },
      "cell_type": "code",
      "source": "plt.hist([len(s) for s in sentences], bins=50)\nplt.show()",
      "execution_count": 16,
      "outputs": [
        {
          "output_type": "display_data",
          "data": {
            "text/plain": "<Figure size 432x288 with 1 Axes>",
            "image/png": "[encoded data removed]"
          },
          "metadata": {}
        }
      ]
    },
    {
      "metadata": {
        "_cell_guid": "4efea2e0-276c-44bb-b0ce-c94ac99cbf91",
        "_uuid": "db68187a5ea707569031c83db34ca4284025bb8b",
        "trusted": true
      },
      "cell_type": "code",
      "source": "words = list(set(dataset[\"word\"].values))\nwords.append(\"ENDPAD\")",
      "execution_count": 17,
      "outputs": []
    },
    {
      "metadata": {
        "_cell_guid": "5b3697b0-0e7d-4265-9fd1-8001792e6fa5",
        "_uuid": "139a721c0b0036e9cc97892ab8d3d2c3ea0ebafa",
        "trusted": true
      },
      "cell_type": "code",
      "source": "n_words = len(words); n_words",
      "execution_count": 18,
      "outputs": [
        {
          "output_type": "execute_result",
          "execution_count": 18,
          "data": {
            "text/plain": "30174"
          },
          "metadata": {}
        }
      ]
    },
    {
      "metadata": {
        "_cell_guid": "2dc974c3-e5df-45dd-9aff-f8ec43e52399",
        "_uuid": "b51ed46f6c6956fc92a71033c82d804455a01e3d",
        "trusted": true
      },
      "cell_type": "code",
      "source": "tags = list(set(dataset[\"tag\"].values))",
      "execution_count": 19,
      "outputs": []
    },
    {
      "metadata": {
        "_cell_guid": "6cd182c7-7f68-420b-b10f-121da695184e",
        "_uuid": "a426a4acd9481ef8618830c9265f4887d63ec9b5",
        "trusted": true
      },
      "cell_type": "code",
      "source": "n_tags = len(tags); n_tags",
      "execution_count": 20,
      "outputs": [
        {
          "output_type": "execute_result",
          "execution_count": 20,
          "data": {
            "text/plain": "18"
          },
          "metadata": {}
        }
      ]
    },
    {
      "metadata": {
        "_cell_guid": "15e92312-4539-490c-a34a-8d8c91e97e0e",
        "_uuid": "8d7134b27205443861225d5820d2ac9e0049e30e"
      },
      "cell_type": "markdown",
      "source": "**Converting words to numbers and numbers to words**"
    },
    {
      "metadata": {
        "_cell_guid": "805f61f0-ec6b-4afc-a1f6-60a5fe015023",
        "_uuid": "b8109f08b55281540b01c07d95666b2f413aa0a8",
        "trusted": true
      },
      "cell_type": "code",
      "source": "word2idx = {w: i for i, w in enumerate(words)}\ntag2idx = {t: i for i, t in enumerate(tags)}",
      "execution_count": 21,
      "outputs": []
    },
    {
      "metadata": {
        "_cell_guid": "36b9e479-e006-4d4d-9d0b-fbaf6c89db77",
        "_uuid": "28bf99df1f14a53181bb3eade1ebf68f1d2f8cf8",
        "trusted": true
      },
      "cell_type": "code",
      "source": "word2idx['Obama']",
      "execution_count": 22,
      "outputs": [
        {
          "output_type": "execute_result",
          "execution_count": 22,
          "data": {
            "text/plain": "17903"
          },
          "metadata": {}
        }
      ]
    },
    {
      "metadata": {
        "_cell_guid": "7e614013-5dd7-4309-b481-7a12b881d8f6",
        "_uuid": "8bca49f998176bfa05a21ebd22822066063184b1",
        "trusted": true
      },
      "cell_type": "code",
      "source": "tag2idx['B-geo']",
      "execution_count": 23,
      "outputs": [
        {
          "output_type": "execute_result",
          "execution_count": 23,
          "data": {
            "text/plain": "7"
          },
          "metadata": {}
        }
      ]
    },
    {
      "metadata": {
        "trusted": true,
        "_uuid": "8c5b5890ee9e547b6f2d37e267d40075c2199c3c"
      },
      "cell_type": "code",
      "source": "tag2idx",
      "execution_count": 38,
      "outputs": [
        {
          "output_type": "execute_result",
          "execution_count": 38,
          "data": {
            "text/plain": "{nan: 0,\n 'O': 1,\n 'I-eve': 2,\n 'I-gpe': 3,\n 'B-eve': 4,\n 'I-nat': 5,\n 'B-nat': 6,\n 'B-geo': 7,\n 'I-org': 8,\n 'B-per': 9,\n 'I-geo': 10,\n 'I-tim': 11,\n 'B-org': 12,\n 'I-per': 13,\n 'I-art': 14,\n 'B-gpe': 15,\n 'B-tim': 16,\n 'B-art': 17}"
          },
          "metadata": {}
        }
      ]
    },
    {
      "metadata": {
        "_cell_guid": "5cd7d9ad-77ae-49ba-b99e-6429a949dede",
        "_uuid": "b25bb0979a6bbe8c6eb11b05c23109592d318a5b",
        "trusted": true
      },
      "cell_type": "code",
      "source": "from keras.preprocessing.sequence import pad_sequences\nX = [[word2idx[w[0]] for w in s] for s in sentences]",
      "execution_count": 24,
      "outputs": [
        {
          "output_type": "stream",
          "text": "Using TensorFlow backend.\n",
          "name": "stderr"
        }
      ]
    },
    {
      "metadata": {
        "_cell_guid": "c3ff7a53-4e1b-4b82-bf2e-d581dbdc4315",
        "_uuid": "75ab049dc0c8a6408913da28666c21ac6f9385d3",
        "trusted": true
      },
      "cell_type": "code",
      "source": "X = pad_sequences(maxlen=140, sequences=X, padding=\"post\",value=n_words - 1)",
      "execution_count": 25,
      "outputs": []
    },
    {
      "metadata": {
        "_cell_guid": "5d331c3d-a729-454d-ba92-2f3540e3ecac",
        "_uuid": "50607669ece7f12df2be2836193540a0375d848d",
        "trusted": true
      },
      "cell_type": "code",
      "source": "y = [[tag2idx[w[2]] for w in s] for s in sentences]",
      "execution_count": 26,
      "outputs": []
    },
    {
      "metadata": {
        "_cell_guid": "8ee02d57-7dc2-4516-9f3b-42507d1d7369",
        "_uuid": "61183c55adee810a0b161cbdfa2a6024862251a4",
        "trusted": true
      },
      "cell_type": "code",
      "source": "y = pad_sequences(maxlen=140, sequences=y, padding=\"post\", value=tag2idx[\"O\"])",
      "execution_count": 27,
      "outputs": []
    },
    {
      "metadata": {
        "_cell_guid": "75b64d49-10a1-411c-85bc-5861a257670e",
        "_uuid": "bd9a39278a2010d51ff4f4a9ccbf0df1d6ee5612",
        "trusted": true
      },
      "cell_type": "code",
      "source": "from keras.utils import to_categorical\ny = [to_categorical(i, num_classes=n_tags) for i in y]",
      "execution_count": 28,
      "outputs": []
    },
    {
      "metadata": {
        "_cell_guid": "b33bf24e-22cb-4cf4-b504-e84f0ccc84e5",
        "_uuid": "75c39949b2cce357b15f5c42f73421a4b0116de5",
        "trusted": true
      },
      "cell_type": "code",
      "source": "from sklearn.model_selection import train_test_split\nX_train, X_test, y_train, y_test = train_test_split(X, y, test_size=0.2)",
      "execution_count": 29,
      "outputs": []
    },
    {
      "metadata": {
        "trusted": true,
        "_uuid": "9a4e39c3437cff7d78466bb2c1e79cbf8cdbf866"
      },
      "cell_type": "code",
      "source": "max([len(tr) for tr in X_train]), len(X_train)",
      "execution_count": 36,
      "outputs": [
        {
          "output_type": "execute_result",
          "execution_count": 36,
          "data": {
            "text/plain": "(140, 28141)"
          },
          "metadata": {}
        }
      ]
    },
    {
      "metadata": {
        "trusted": true,
        "_uuid": "53e23a9565f134e259cb913b5f1d60bb82f774d5"
      },
      "cell_type": "code",
      "source": "max([len(tr) for tr in y_train]), len(y_train)",
      "execution_count": 37,
      "outputs": [
        {
          "output_type": "execute_result",
          "execution_count": 37,
          "data": {
            "text/plain": "(140, 28141)"
          },
          "metadata": {}
        }
      ]
    },
    {
      "metadata": {
        "_cell_guid": "00a15ead-883e-4348-96df-e86dcb65a945",
        "_uuid": "89375c4a136104777c96a13b02d2810d78bcc1d9",
        "trusted": true
      },
      "cell_type": "code",
      "source": "from keras.models import Model, Input\nfrom keras.layers import LSTM, Embedding, Dense, TimeDistributed, Dropout, Bidirectional",
      "execution_count": 30,
      "outputs": []
    },
    {
      "metadata": {
        "_cell_guid": "b8ad552d-ba01-4421-b57c-893b286b7023",
        "_uuid": "c97f42b1c86f9e9b82f9eff323789795ebb05bcd",
        "trusted": true
      },
      "cell_type": "code",
      "source": "input = Input(shape=(140,))\nmodel = Embedding(input_dim=n_words, output_dim=100, input_length=140)(input)\nmodel = Dropout(0.1)(model)\nmodel = Bidirectional(LSTM(units=128, return_sequences=True, recurrent_dropout=0.1))(model)\nout = TimeDistributed(Dense(n_tags, activation=\"softmax\"))(model)  # softmax output layer",
      "execution_count": 31,
      "outputs": []
    },
    {
      "metadata": {
        "_cell_guid": "82ffe0e4-30f4-49a7-902a-e1942ca59259",
        "_uuid": "d9ec4a0fd80b49f9bb28a25de022ec848113fa9a",
        "trusted": true
      },
      "cell_type": "code",
      "source": "model = Model(input, out)",
      "execution_count": 32,
      "outputs": []
    },
    {
      "metadata": {
        "_cell_guid": "bf8e202b-f374-42c0-9a8f-146d595c8648",
        "_uuid": "93300d6dc8ac67eecd8f99f2ee82d2817daf5f96",
        "trusted": true
      },
      "cell_type": "code",
      "source": "model.compile(optimizer=\"adam\", loss=\"categorical_crossentropy\", metrics=[\"accuracy\"])",
      "execution_count": 33,
      "outputs": []
    },
    {
      "metadata": {
        "_cell_guid": "5df5d6eb-2285-4a57-b5a0-d0bcbf79c483",
        "_uuid": "93e241a9304d00294cb0f675f1e42b5dbb6a1c07",
        "trusted": true
      },
      "cell_type": "code",
      "source": "history = model.fit(X_train, np.array(y_train), batch_size=32, epochs=1, validation_split=0.2, verbose=1)",
      "execution_count": 34,
      "outputs": [
        {
          "output_type": "stream",
          "text": "Train on 22512 samples, validate on 5629 samples\nEpoch 1/1\n22512/22512 [==============================] - 492s 22ms/step - loss: 0.1332 - acc: 0.9743 - val_loss: 0.0472 - val_acc: 0.9870\n",
          "name": "stdout"
        }
      ]
    },
    {
      "metadata": {
        "trusted": true,
        "_uuid": "139269e019aaac2da260b0ee5a676a4c618f6673"
      },
      "cell_type": "code",
      "source": "i = 0\np = model.predict(np.array([X_test[i]]))\np = np.argmax(p, axis=-1)\nprint(\"{:15} ({:5}): {}\".format(\"Word\", \"True\", \"Pred\"))\nfor w,pred in zip(X_test[i],p[0]):\n    print(\"{:15}: {}\".format(words[w],tags[pred]))",
      "execution_count": 35,
      "outputs": [
        {
          "output_type": "stream",
          "text": "Word            (True ): Pred\nNuclear        : B-org\nenvoys         : O\nfrom           : O\nNorth          : B-geo\nand            : O\nSouth          : B-geo\nKorea          : I-geo\nhave           : O\nmet            : O\nin             : O\nBeijing        : B-geo\nas             : O\npart           : O\nof             : O\nattempts       : O\nto             : O\nresume         : O\nsix-party      : O\ntalks          : O\non             : O\nPyongyang      : B-geo\n's             : O\nnuclear        : O\nweapons        : O\nprogram        : O\n.              : O\nENDPAD         : O\nENDPAD         : O\nENDPAD         : O\nENDPAD         : O\nENDPAD         : O\nENDPAD         : O\nENDPAD         : O\nENDPAD         : O\nENDPAD         : O\nENDPAD         : O\nENDPAD         : O\nENDPAD         : O\nENDPAD         : O\nENDPAD         : O\nENDPAD         : O\nENDPAD         : O\nENDPAD         : O\nENDPAD         : O\nENDPAD         : O\nENDPAD         : O\nENDPAD         : O\nENDPAD         : O\nENDPAD         : O\nENDPAD         : O\nENDPAD         : O\nENDPAD         : O\nENDPAD         : O\nENDPAD         : O\nENDPAD         : O\nENDPAD         : O\nENDPAD         : O\nENDPAD         : O\nENDPAD         : O\nENDPAD         : O\nENDPAD         : O\nENDPAD         : O\nENDPAD         : O\nENDPAD         : O\nENDPAD         : O\nENDPAD         : O\nENDPAD         : O\nENDPAD         : O\nENDPAD         : O\nENDPAD         : O\nENDPAD         : O\nENDPAD         : O\nENDPAD         : O\nENDPAD         : O\nENDPAD         : O\nENDPAD         : O\nENDPAD         : O\nENDPAD         : O\nENDPAD         : O\nENDPAD         : O\nENDPAD         : O\nENDPAD         : O\nENDPAD         : O\nENDPAD         : O\nENDPAD         : O\nENDPAD         : O\nENDPAD         : O\nENDPAD         : O\nENDPAD         : O\nENDPAD         : O\nENDPAD         : O\nENDPAD         : O\nENDPAD         : O\nENDPAD         : O\nENDPAD         : O\nENDPAD         : O\nENDPAD         : O\nENDPAD         : O\nENDPAD         : O\nENDPAD         : O\nENDPAD         : O\nENDPAD         : O\nENDPAD         : O\nENDPAD         : O\nENDPAD         : O\nENDPAD         : O\nENDPAD         : O\nENDPAD         : O\nENDPAD         : O\nENDPAD         : O\nENDPAD         : O\nENDPAD         : O\nENDPAD         : O\nENDPAD         : O\nENDPAD         : O\nENDPAD         : O\nENDPAD         : O\nENDPAD         : O\nENDPAD         : O\nENDPAD         : O\nENDPAD         : O\nENDPAD         : O\nENDPAD         : O\nENDPAD         : O\nENDPAD         : O\nENDPAD         : O\nENDPAD         : O\nENDPAD         : O\nENDPAD         : O\nENDPAD         : O\nENDPAD         : O\nENDPAD         : O\nENDPAD         : O\nENDPAD         : O\nENDPAD         : O\nENDPAD         : O\nENDPAD         : O\nENDPAD         : O\nENDPAD         : O\nENDPAD         : O\n",
          "name": "stdout"
        }
      ]
    },
    {
      "metadata": {
        "trusted": true,
        "_uuid": "715463a69f08ef2ab2c405ba2e8df57049e93c5e"
      },
      "cell_type": "code",
      "source": "p[0]",
      "execution_count": 39,
      "outputs": [
        {
          "output_type": "execute_result",
          "execution_count": 39,
          "data": {
            "text/plain": "array([12,  1,  1,  7,  1,  7, 10,  1,  1,  1,  7,  1,  1,  1,  1,  1,  1,\n        1,  1,  1,  7,  1,  1,  1,  1,  1,  1,  1,  1,  1,  1,  1,  1,  1,\n        1,  1,  1,  1,  1,  1,  1,  1,  1,  1,  1,  1,  1,  1,  1,  1,  1,\n        1,  1,  1,  1,  1,  1,  1,  1,  1,  1,  1,  1,  1,  1,  1,  1,  1,\n        1,  1,  1,  1,  1,  1,  1,  1,  1,  1,  1,  1,  1,  1,  1,  1,  1,\n        1,  1,  1,  1,  1,  1,  1,  1,  1,  1,  1,  1,  1,  1,  1,  1,  1,\n        1,  1,  1,  1,  1,  1,  1,  1,  1,  1,  1,  1,  1,  1,  1,  1,  1,\n        1,  1,  1,  1,  1,  1,  1,  1,  1,  1,  1,  1,  1,  1,  1,  1,  1,\n        1,  1,  1,  1])"
          },
          "metadata": {}
        }
      ]
    },
    {
      "metadata": {
        "trusted": true,
        "_uuid": "c1236923181f0fa87e5e4d520899ba78a3f6b53a"
      },
      "cell_type": "code",
      "source": "import re\nclass NERInference:\n    def __init__(self, model, words, word2idx, tags, n_words, maxlen=140, split_pattern=\"(,|!|\\.| +)\"):\n        self.model = model\n        self.words = words\n        self.word2idx = word2idx\n        self.tags = tags\n        self.n_words = n_words\n        self.pattern = split_pattern\n        self.maxlen = maxlen\n        \n    def predict(self, string):\n        tokens = [[self.word2idx[word] for word in re.split(self.pattern, string) if word in self.words]]\n        padded = pad_sequences(tokens, maxlen=self.maxlen, padding='post', value=n_words-1)\n        pred_ner = np.argmax(self.model.predict(padded), axis=-1)\n        for w,pred in zip(padded[0], pred_ner[0]):\n            if w == self.n_words - 1:\n                break\n            print(\"{:15}: {}\".format(self.words[w], self.tags[pred]))\n        ",
      "execution_count": 43,
      "outputs": []
    },
    {
      "metadata": {
        "trusted": true,
        "_uuid": "021e68a34d381787aeae99e1899b857904e57c07"
      },
      "cell_type": "code",
      "source": "myNerInfer = NERInference(model, word2idx=word2idx, words=words, tags=tags, n_words=n_words, maxlen=140)",
      "execution_count": 44,
      "outputs": []
    },
    {
      "metadata": {
        "trusted": true,
        "_uuid": "6dd909f624bb0e85e64f85e8da897f2f3128ad62"
      },
      "cell_type": "code",
      "source": "new_string = \"I love Beijing, it is a beautiful city! I love living there. And my friend Mike Brown is from Beijing.\"\nmyNerInfer.predict(string=new_string)",
      "execution_count": 45,
      "outputs": [
        {
          "output_type": "stream",
          "text": "I              : O\nlove           : O\nBeijing        : B-geo\n,              : O\nit             : O\nis             : O\na              : O\nbeautiful      : O\ncity           : O\n!              : O\nI              : O\nlove           : O\nliving         : O\nthere          : O\n.              : O\nAnd            : O\nmy             : O\nfriend         : O\nMike           : B-per\nBrown          : I-geo\nis             : O\nfrom           : O\nBeijing        : B-geo\n.              : O\n",
          "name": "stdout"
        }
      ]
    },
    {
      "metadata": {
        "trusted": true,
        "_uuid": "166e8317cf8fea9622e16af8591b610169774511"
      },
      "cell_type": "code",
      "source": "",
      "execution_count": null,
      "outputs": []
    }
  ],
  "metadata": {
    "kernelspec": {
      "display_name": "Python 3",
      "language": "python",
      "name": "python3"
    },
    "language_info": {
      "name": "python",
      "version": "3.6.6",
      "mimetype": "text/x-python",
      "codemirror_mode": {
        "name": "ipython",
        "version": 3
      },
      "pygments_lexer": "ipython3",
      "nbconvert_exporter": "python",
      "file_extension": ".py"
    }
  },
  "nbformat": 4,
  "nbformat_minor": 1
}